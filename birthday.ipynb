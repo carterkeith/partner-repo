{
 "cells": [
  {
   "cell_type": "code",
   "execution_count": null,
   "id": "ordered-border",
   "metadata": {},
   "outputs": [],
   "source": [
    "name = input(\"Enter your name:\")\n",
    "birthday_month = int(input(\"Hi, \" + name + \"! Enter the number that corresponds with your birthday month: \"))\n",
    "\n",
    "if birthday_month == 1 or birthday_month == 2:\n",
    "    print(\"Happy belated birthday!\")\n",
    "elif birthday_month >= 3 and birthday_month <= 5: \n",
    "    print(\"Your birthday is coming up! Get excited!\")\n",
    "#Carter, this is where you can add a few lines to make elif and print statements for the other birthday months"
   ]
  }
 ],
 "metadata": {
  "kernelspec": {
   "display_name": "Python 3",
   "language": "python",
   "name": "python3"
  },
  "language_info": {
   "codemirror_mode": {
    "name": "ipython",
    "version": 3
   },
   "file_extension": ".py",
   "mimetype": "text/x-python",
   "name": "python",
   "nbconvert_exporter": "python",
   "pygments_lexer": "ipython3",
   "version": "3.7.7"
  }
 },
 "nbformat": 4,
 "nbformat_minor": 5
}
